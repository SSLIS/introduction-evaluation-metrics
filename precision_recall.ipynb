{
  "nbformat": 4,
  "nbformat_minor": 0,
  "metadata": {
    "colab": {
      "provenance": [],
      "collapsed_sections": []
    },
    "kernelspec": {
      "name": "python3",
      "display_name": "Python 3"
    }
  },
  "cells": [
    {
      "cell_type": "markdown",
      "metadata": {
        "id": "4z4ZdQtWwMRd"
      },
      "source": [
        "# Precision och recall"
      ]
    },
    {
      "cell_type": "markdown",
      "metadata": {
        "id": "wOvufB8ywM8_"
      },
      "source": [
        "Utifrån ett antal sökningar i ett söksystem ska vi utvärdera söksystemets förmåga att ge oss relevanta träffar. Detta görs med hjälp av precision och recall, eller precision och återgivning.\n",
        "\n"
      ]
    },
    {
      "cell_type": "markdown",
      "metadata": {
        "id": "vi3APRIBRYfP"
      },
      "source": [
        "## Sökning"
      ]
    },
    {
      "cell_type": "markdown",
      "metadata": {
        "id": "dz2uYrREjnWy"
      },
      "source": [
        "Vi börjar med att anteckna vilka dokument från våra sökningar som vi anser är relevanta. \n",
        "\n",
        "Varje dokument från representeras av **1** (ett relevant dokument) och **0** (ett irrelevant dokument).\n",
        "\n",
        "Relevansbedömningen för varje sökning sparas i en lista som vi kallar **query**; en behållare som vi kan räkna på."
      ]
    },
    {
      "cell_type": "markdown",
      "metadata": {
        "id": "71HTw4CtOlRf"
      },
      "source": [
        "### Sökning med relevansbedömning\n",
        "\n"
      ]
    },
    {
      "cell_type": "code",
      "metadata": {
        "id": "w9ZUSrtnsooQ"
      },
      "source": [
        "query = [0,1,0,0,1,0,1,0,0,1,0,0,1,0,0,0,0,0,0,1]"
      ],
      "execution_count": null,
      "outputs": []
    },
    {
      "cell_type": "markdown",
      "metadata": {
        "id": "iazTVbGPPCoJ"
      },
      "source": [
        "## Precision"
      ]
    },
    {
      "cell_type": "markdown",
      "metadata": {
        "id": "XVRHEdpiRV-x"
      },
      "source": [
        "Precision är proportionen återvunna dokument som är relevanta. \n",
        "\n",
        "Svarar på frågan *hur precis är sökfrågan*? \n",
        "\n",
        "Beräknas genom relevanta återvunna dokument dividerat med alla återvunna dokument."
      ]
    },
    {
      "cell_type": "code",
      "metadata": {
        "id": "lE5LwA7_PKy3"
      },
      "source": [
        "relevant_docs_in_query = query.count(1)\n",
        "print(\"Antal relevanta dokument:\", relevant_docs_in_query)\n",
        "\n",
        "retrieved_docs = len(query)\n",
        "print(\"Antal återvunna dokument:\", retrieved_docs)\n",
        "\n",
        "precision = relevant_docs_in_query/retrieved_docs\n",
        "print(\"Precision för sökningen =\", precision, \"≈\", round(precision * 100), \"%.\")"
      ],
      "execution_count": null,
      "outputs": []
    },
    {
      "cell_type": "markdown",
      "metadata": {
        "id": "mTne0c2CRCw2"
      },
      "source": [
        "## Recall"
      ]
    },
    {
      "cell_type": "markdown",
      "metadata": {
        "id": "PAcqoxyhRCtJ"
      },
      "source": [
        "Recall är proportionen relevanta dokument som har återvunnits.\n",
        "\n",
        "Svarar på frågan *Hur många av de relevanta dokumenten har återvunnits från sökfrågan*?\n",
        "\n",
        "Beräknas genom relevanta återvunna dokument dividerat med alla relevanta dokument i dokumentsamlingen.\n",
        "\n",
        "Låt oss anta att det finns 15 relevanta dokument i dokumentsamlingen."
      ]
    },
    {
      "cell_type": "code",
      "metadata": {
        "id": "aQ6E2MdnRBwZ"
      },
      "source": [
        "all_relevant_docs = 15\n",
        "\n",
        "recall = relevant_docs_in_query / all_relevant_docs\n",
        "\n",
        "print(\"Recall för sökningen är\", recall, \"≈\", round(recall * 100), \"%.\")"
      ],
      "execution_count": null,
      "outputs": []
    },
    {
      "cell_type": "markdown",
      "metadata": {
        "id": "UsqZYI-LvZmL"
      },
      "source": [
        "## Precision at n"
      ]
    },
    {
      "cell_type": "markdown",
      "metadata": {
        "id": "EQwlokyUj5tr"
      },
      "source": [
        "Precision at n (eller p @ n) anger antalet relevanta resultat vid en given nivå (n).\n",
        "\n",
        "Uppmäts vid återgivningsnivåer om 5, 10 och 20 då dessa nivåer vanligtvis överensstämmer med det antal dokument som dyker upp på förstasidan av ett sökresultat.\n",
        "\n",
        "Nedan mäter vi p @ n där n = 10"
      ]
    },
    {
      "cell_type": "code",
      "metadata": {
        "id": "Wjr7GBbIWOBd"
      },
      "source": [
        "n = 10"
      ],
      "execution_count": null,
      "outputs": []
    },
    {
      "cell_type": "code",
      "metadata": {
        "id": "LjWdkK_jyuV8"
      },
      "source": [
        "relevant_docs_in_query_at_n = sum(query[:n])\n",
        "print(\"Antal relevanta dokument =\", relevant_docs_in_query_at_n)\n",
        "\n",
        "p_at_n = relevant_docs_in_query_at_n / n\n",
        "print(\"Precision at n =\", p_at_n, \"≈\", round(p_at_n * 100), \"%.\")"
      ],
      "execution_count": null,
      "outputs": []
    },
    {
      "cell_type": "markdown",
      "metadata": {
        "id": "wMRr183RhwNb"
      },
      "source": [
        "## R-precision"
      ]
    },
    {
      "cell_type": "markdown",
      "metadata": {
        "id": "4ELNorfaGmRN"
      },
      "source": [
        "Precisionen vid den R:e positionen i svarsmängden, där R är det totala antalet relevanta dokument för en sökfråga."
      ]
    },
    {
      "cell_type": "code",
      "metadata": {
        "id": "y6k1PtLHhyl_"
      },
      "source": [
        "print(\"Totalt antal relevanta dokument för sökfrågan (R):\", relevant_docs_in_query)\n",
        "\n",
        "r_position = sum(query[:relevant_docs_in_query])\n",
        "print(\"Antalet relevanta dokument vid R:\", r_position)\n",
        "\n",
        "r_precision = r_position / relevant_docs_in_query\n",
        "print(\"R-precision =\", r_precision, \"≈\", round(r_precision * 100), \"%.\")"
      ],
      "execution_count": null,
      "outputs": []
    },
    {
      "cell_type": "markdown",
      "metadata": {
        "id": "DQFi8QRlvqxy"
      },
      "source": [
        "## Average precision at document cut off value"
      ]
    },
    {
      "cell_type": "markdown",
      "metadata": {
        "id": "zOYdwIbikba1"
      },
      "source": [
        "Används för att mäta rankningseffektivitet för en sökfråga.\n",
        "\n",
        "Nedan mäter vi AP/DCV där (DCV) = 10."
      ]
    },
    {
      "cell_type": "code",
      "metadata": {
        "id": "iwCwrwsy_1Gp"
      },
      "source": [
        "dcv = 10"
      ],
      "execution_count": null,
      "outputs": []
    },
    {
      "cell_type": "markdown",
      "metadata": {
        "id": "5w0-WmiGPuG4"
      },
      "source": [
        "Vi inleder med att hämta en numrerad lista på de relevanta dokumenten."
      ]
    },
    {
      "cell_type": "code",
      "metadata": {
        "id": "5S8eC7fpXMRY"
      },
      "source": [
        "relevant_docs_in_query_at_dcv = sum(query[:dcv])\n",
        "index_zero_list = list(range(relevant_docs_in_query_at_dcv))\n",
        "\n",
        "doc_list = []\n",
        "\n",
        "for document_position in range(len(index_zero_list)):\n",
        "  doc_list.append(index_zero_list[document_position] + 1)\n",
        "\n",
        "print(\"Dokumentlista för sökningen:\", doc_list)"
      ],
      "execution_count": null,
      "outputs": []
    },
    {
      "cell_type": "markdown",
      "metadata": {
        "id": "G_Anxne0kun3"
      },
      "source": [
        "Sedan undersöker vi på vilka positioner vardera relevant dokument finns."
      ]
    },
    {
      "cell_type": "code",
      "metadata": {
        "id": "J8nTKDS9lP2C"
      },
      "source": [
        "recall_levels = []\n",
        "\n",
        "for document, relevance in enumerate(query[:dcv]):\n",
        "  if relevance == 1: \n",
        "    recall_levels.append(document + 1)\n",
        "\n",
        "print(\"Recallnivåer för sökningen:\", recall_levels)"
      ],
      "execution_count": null,
      "outputs": []
    },
    {
      "cell_type": "markdown",
      "metadata": {
        "id": "XkTiUit9k0gO"
      },
      "source": [
        "Därefter beräknar vi precision vid varje recallnivå."
      ]
    },
    {
      "cell_type": "code",
      "metadata": {
        "id": "hFMFHYdI1q_1"
      },
      "source": [
        "precision_at_recall = []\n",
        "\n",
        "for each_precision, each_recall in zip(doc_list, recall_levels):\n",
        "  precision_at_recall.append(each_precision / each_recall)\n",
        "\n",
        "print(\"Precision vid varje recallnivå:\", precision_at_recall)"
      ],
      "execution_count": null,
      "outputs": []
    },
    {
      "cell_type": "markdown",
      "metadata": {
        "id": "F1A61dyBlGft"
      },
      "source": [
        "Vi slår ihop samtliga precisionsvärden vid varje recallnivå."
      ]
    },
    {
      "cell_type": "code",
      "metadata": {
        "id": "YN_SgGUvZFq2"
      },
      "source": [
        "sum_precision = sum(precision_at_recall)\n",
        "\n",
        "print(\"Sammanlagd precision:\", sum_precision)"
      ],
      "execution_count": null,
      "outputs": []
    },
    {
      "cell_type": "markdown",
      "metadata": {
        "id": "1MsLfPX5ljKL"
      },
      "source": [
        "Vi beräknar det totala antalet relevanta dokument inom DCV."
      ]
    },
    {
      "cell_type": "code",
      "metadata": {
        "id": "Ztx-nV7wVg2-"
      },
      "source": [
        "relevant_docs_at_dcv = query[:dcv].count(1)\n",
        "\n",
        "print(\"Relevanta dokument vid document cut off value:\", relevant_docs_at_dcv)"
      ],
      "execution_count": null,
      "outputs": []
    },
    {
      "cell_type": "markdown",
      "metadata": {
        "id": "7oplQXUylp-s"
      },
      "source": [
        "Till sist beräknar vi AP/DCV för sökningen."
      ]
    },
    {
      "cell_type": "code",
      "metadata": {
        "id": "k0PPJq86ancP"
      },
      "source": [
        "ap_dcv = sum_precision/dcv\n",
        "\n",
        "print(\"AP/DCV för sökningen =\", ap_dcv, \"≈\", round(ap_dcv * 100), \"%.\")"
      ],
      "execution_count": null,
      "outputs": []
    },
    {
      "cell_type": "markdown",
      "metadata": {
        "id": "nleqBastj1oK"
      },
      "source": [
        "## F1-mått"
      ]
    },
    {
      "cell_type": "markdown",
      "metadata": {
        "id": "ZPuyYSs1F751"
      },
      "source": [
        "F1-måttet är ett mått som kombinerar recall och precision för att beräkna det harmoniska medelvärdet mellan precision och recall.\n",
        "\n",
        "2 / ((1/r) + (1/p))\n"
      ]
    },
    {
      "cell_type": "code",
      "metadata": {
        "id": "CGuppOtgj3-B"
      },
      "source": [
        "recall_f1 = 1/recall\n",
        "\n",
        "precision_f1 = 1/precision\n",
        "\n",
        "precision_recall_f1 = recall_f1 + precision_f1\n",
        "\n",
        "f1 = 2 / precision_recall_f1\n",
        "\n",
        "print(\"F1-måttet för sökningen =\", f1, \"≈\", round(f1 * 100), \"%.\")"
      ],
      "execution_count": null,
      "outputs": []
    },
    {
      "cell_type": "markdown",
      "metadata": {
        "id": "8u1toIaDf06y"
      },
      "source": [
        "## Sammanfattning"
      ]
    },
    {
      "cell_type": "code",
      "metadata": {
        "id": "P9TxmHeFflxv"
      },
      "source": [
        "print(\"Precision ≈\", round(precision * 100), \"%.\")\n",
        "\n",
        "print(\"Recall ≈\", round(recall * 100), \"%.\")\n",
        "\n",
        "print(\"Precision @ n ≈\", round(p_at_n * 100), \"%.\")\n",
        "\n",
        "print(\"R-precision ≈\", round(r_precision * 100), \"%.\")\n",
        "\n",
        "print(\"AP/DCV ≈\", round(ap_dcv * 100), \"%\")\n",
        "\n",
        "print(\"F1 ≈\", round(f1 * 100), \"%.\")"
      ],
      "execution_count": null,
      "outputs": []
    }
  ]
}